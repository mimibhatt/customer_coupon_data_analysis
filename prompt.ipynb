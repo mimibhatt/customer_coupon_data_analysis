{
 "cells": [
  {
   "cell_type": "markdown",
   "metadata": {
    "id": "c_J5g0D_oyAt"
   },
   "source": [
    "### Will a Customer Accept the Coupon?\n",
    "\n",
    "**Context**\n",
    "\n",
    "Imagine driving through town and a coupon is delivered to your cell phone for a restaraunt near where you are driving. Would you accept that coupon and take a short detour to the restaraunt? Would you accept the coupon but use it on a sunbsequent trip? Would you ignore the coupon entirely? What if the coupon was for a bar instead of a restaraunt? What about a coffee house? Would you accept a bar coupon with a minor passenger in the car? What about if it was just you and your partner in the car? Would weather impact the rate of acceptance? What about the time of day?\n",
    "\n",
    "Obviously, proximity to the business is a factor on whether the coupon is delivered to the driver or not, but what are the factors that determine whether a driver accepts the coupon once it is delivered to them? How would you determine whether a driver is likely to accept a coupon?\n",
    "\n",
    "**Overview**\n",
    "\n",
    "The goal of this project is to use what you know about visualizations and probability distributions to distinguish between customers who accepted a driving coupon versus those that did not.\n",
    "\n",
    "**Data**\n",
    "\n",
    "This data comes to us from the UCI Machine Learning repository and was collected via a survey on Amazon Mechanical Turk. The survey describes different driving scenarios including the destination, current time, weather, passenger, etc., and then ask the person whether he will accept the coupon if he is the driver. Answers that the user will drive there ‘right away’ or ‘later before the coupon expires’ are labeled as ‘Y = 1’ and answers ‘no, I do not want the coupon’ are labeled as ‘Y = 0’.  There are five different types of coupons -- less expensive restaurants (under \\\\$20), coffee houses, carry out & take away, bar, and more expensive restaurants (\\\\$20 - \\\\$50)."
   ]
  },
  {
   "cell_type": "markdown",
   "metadata": {
    "id": "Mc8iDf3coyAy"
   },
   "source": [
    "**Deliverables**\n",
    "\n",
    "Your final product should be a brief report that highlights the differences between customers who did and did not accept the coupons.  To explore the data you will utilize your knowledge of plotting, statistical summaries, and visualization using Python. You will publish your findings in a public facing github repository as your first portfolio piece.\n",
    "\n",
    "\n",
    "\n"
   ]
  },
  {
   "cell_type": "markdown",
   "metadata": {
    "id": "aB0SfZqxoyAy"
   },
   "source": [
    "### Data Description\n",
    "Keep in mind that these values mentioned below are average values.\n",
    "\n",
    "The attributes of this data set include:\n",
    "1. User attributes\n",
    "    -  Gender: male, female\n",
    "    -  Age: below 21, 21 to 25, 26 to 30, etc.\n",
    "    -  Marital Status: single, married partner, unmarried partner, or widowed\n",
    "    -  Number of children: 0, 1, or more than 1\n",
    "    -  Education: high school, bachelors degree, associates degree, or graduate degree\n",
    "    -  Occupation: architecture & engineering, business & financial, etc.\n",
    "    -  Annual income: less than \\\\$12500, \\\\$12500 - \\\\$24999, \\\\$25000 - \\\\$37499, etc.\n",
    "    -  Number of times that he/she goes to a bar: 0, less than 1, 1 to 3, 4 to 8 or greater than 8\n",
    "    -  Number of times that he/she buys takeaway food: 0, less than 1, 1 to 3, 4 to 8 or greater\n",
    "    than 8\n",
    "    -  Number of times that he/she goes to a coffee house: 0, less than 1, 1 to 3, 4 to 8 or\n",
    "    greater than 8\n",
    "    -  Number of times that he/she eats at a restaurant with average expense less than \\\\$20 per\n",
    "    person: 0, less than 1, 1 to 3, 4 to 8 or greater than 8\n",
    "    -  Number of times that he/she goes to a bar: 0, less than 1, 1 to 3, 4 to 8 or greater than 8\n",
    "    \n",
    "\n",
    "2. Contextual attributes\n",
    "    - Driving destination: home, work, or no urgent destination\n",
    "    - Location of user, coupon and destination: we provide a map to show the geographical\n",
    "    location of the user, destination, and the venue, and we mark the distance between each\n",
    "    two places with time of driving. The user can see whether the venue is in the same\n",
    "    direction as the destination.\n",
    "    - Weather: sunny, rainy, or snowy\n",
    "    - Temperature: 30F, 55F, or 80F\n",
    "    - Time: 10AM, 2PM, or 6PM\n",
    "    - Passenger: alone, partner, kid(s), or friend(s)\n",
    "\n",
    "\n",
    "3. Coupon attributes\n",
    "    - time before it expires: 2 hours or one day"
   ]
  },
  {
   "cell_type": "code",
   "execution_count": 1,
   "metadata": {
    "executionInfo": {
     "elapsed": 2310,
     "status": "ok",
     "timestamp": 1715654617015,
     "user": {
      "displayName": "Mimi Bhattacharjee",
      "userId": "12057613057432470560"
     },
     "user_tz": 420
    },
    "id": "ebzbcfNvoyAz"
   },
   "outputs": [],
   "source": [
    "import matplotlib.pyplot as plt\n",
    "import seaborn as sns\n",
    "import pandas as pd\n",
    "import numpy as np"
   ]
  },
  {
   "cell_type": "markdown",
   "metadata": {
    "id": "j8YbAOGDoyA0"
   },
   "source": [
    "### Problems\n",
    "\n",
    "Use the prompts below to get started with your data analysis.  \n",
    "\n",
    "1. Read in the `coupons.csv` file.\n",
    "\n",
    "\n"
   ]
  },
  {
   "cell_type": "code",
   "execution_count": 10,
   "metadata": {
    "executionInfo": {
     "elapsed": 1050,
     "status": "ok",
     "timestamp": 1715654618063,
     "user": {
      "displayName": "Mimi Bhattacharjee",
      "userId": "12057613057432470560"
     },
     "user_tz": 420
    },
    "id": "fgAd6fLuo2r8"
   },
   "outputs": [],
   "source": [
    "import pandas as pd\n",
    "import numpy as np\n",
    "import seaborn as sns\n",
    "import matplotlib.pyplot as plt\n",
    "import plotly.express as px"
   ]
  },
  {
   "cell_type": "code",
   "execution_count": 11,
   "metadata": {
    "colab": {
     "base_uri": "https://localhost:8080/"
    },
    "executionInfo": {
     "elapsed": 25491,
     "status": "ok",
     "timestamp": 1715654643551,
     "user": {
      "displayName": "Mimi Bhattacharjee",
      "userId": "12057613057432470560"
     },
     "user_tz": 420
    },
    "id": "co5e-4MipEcm",
    "outputId": "4f9a40d5-247b-4911-c107-0d2041889a6c"
   },
   "outputs": [],
   "source": [
    "data = pd.read_csv('data/coupons.csv')"
   ]
  },
  {
   "cell_type": "code",
   "execution_count": 12,
   "metadata": {
    "colab": {
     "base_uri": "https://localhost:8080/",
     "height": 342
    },
    "executionInfo": {
     "elapsed": 10,
     "status": "ok",
     "timestamp": 1715654643551,
     "user": {
      "displayName": "Mimi Bhattacharjee",
      "userId": "12057613057432470560"
     },
     "user_tz": 420
    },
    "id": "UHmNBJLGoyA1",
    "outputId": "6c3e6657-9cf1-4334-c75a-4213edf9eaab"
   },
   "outputs": [
    {
     "data": {
      "text/html": [
       "<div>\n",
       "<style scoped>\n",
       "    .dataframe tbody tr th:only-of-type {\n",
       "        vertical-align: middle;\n",
       "    }\n",
       "\n",
       "    .dataframe tbody tr th {\n",
       "        vertical-align: top;\n",
       "    }\n",
       "\n",
       "    .dataframe thead th {\n",
       "        text-align: right;\n",
       "    }\n",
       "</style>\n",
       "<table border=\"1\" class=\"dataframe\">\n",
       "  <thead>\n",
       "    <tr style=\"text-align: right;\">\n",
       "      <th></th>\n",
       "      <th>destination</th>\n",
       "      <th>passanger</th>\n",
       "      <th>weather</th>\n",
       "      <th>temperature</th>\n",
       "      <th>time</th>\n",
       "      <th>coupon</th>\n",
       "      <th>expiration</th>\n",
       "      <th>gender</th>\n",
       "      <th>age</th>\n",
       "      <th>maritalStatus</th>\n",
       "      <th>...</th>\n",
       "      <th>CoffeeHouse</th>\n",
       "      <th>CarryAway</th>\n",
       "      <th>RestaurantLessThan20</th>\n",
       "      <th>Restaurant20To50</th>\n",
       "      <th>toCoupon_GEQ5min</th>\n",
       "      <th>toCoupon_GEQ15min</th>\n",
       "      <th>toCoupon_GEQ25min</th>\n",
       "      <th>direction_same</th>\n",
       "      <th>direction_opp</th>\n",
       "      <th>Y</th>\n",
       "    </tr>\n",
       "  </thead>\n",
       "  <tbody>\n",
       "    <tr>\n",
       "      <th>0</th>\n",
       "      <td>No Urgent Place</td>\n",
       "      <td>Alone</td>\n",
       "      <td>Sunny</td>\n",
       "      <td>55</td>\n",
       "      <td>2PM</td>\n",
       "      <td>Restaurant(&lt;20)</td>\n",
       "      <td>1d</td>\n",
       "      <td>Female</td>\n",
       "      <td>21</td>\n",
       "      <td>Unmarried partner</td>\n",
       "      <td>...</td>\n",
       "      <td>never</td>\n",
       "      <td>NaN</td>\n",
       "      <td>4~8</td>\n",
       "      <td>1~3</td>\n",
       "      <td>1</td>\n",
       "      <td>0</td>\n",
       "      <td>0</td>\n",
       "      <td>0</td>\n",
       "      <td>1</td>\n",
       "      <td>1</td>\n",
       "    </tr>\n",
       "    <tr>\n",
       "      <th>1</th>\n",
       "      <td>No Urgent Place</td>\n",
       "      <td>Friend(s)</td>\n",
       "      <td>Sunny</td>\n",
       "      <td>80</td>\n",
       "      <td>10AM</td>\n",
       "      <td>Coffee House</td>\n",
       "      <td>2h</td>\n",
       "      <td>Female</td>\n",
       "      <td>21</td>\n",
       "      <td>Unmarried partner</td>\n",
       "      <td>...</td>\n",
       "      <td>never</td>\n",
       "      <td>NaN</td>\n",
       "      <td>4~8</td>\n",
       "      <td>1~3</td>\n",
       "      <td>1</td>\n",
       "      <td>0</td>\n",
       "      <td>0</td>\n",
       "      <td>0</td>\n",
       "      <td>1</td>\n",
       "      <td>0</td>\n",
       "    </tr>\n",
       "    <tr>\n",
       "      <th>2</th>\n",
       "      <td>No Urgent Place</td>\n",
       "      <td>Friend(s)</td>\n",
       "      <td>Sunny</td>\n",
       "      <td>80</td>\n",
       "      <td>10AM</td>\n",
       "      <td>Carry out &amp; Take away</td>\n",
       "      <td>2h</td>\n",
       "      <td>Female</td>\n",
       "      <td>21</td>\n",
       "      <td>Unmarried partner</td>\n",
       "      <td>...</td>\n",
       "      <td>never</td>\n",
       "      <td>NaN</td>\n",
       "      <td>4~8</td>\n",
       "      <td>1~3</td>\n",
       "      <td>1</td>\n",
       "      <td>1</td>\n",
       "      <td>0</td>\n",
       "      <td>0</td>\n",
       "      <td>1</td>\n",
       "      <td>1</td>\n",
       "    </tr>\n",
       "    <tr>\n",
       "      <th>3</th>\n",
       "      <td>No Urgent Place</td>\n",
       "      <td>Friend(s)</td>\n",
       "      <td>Sunny</td>\n",
       "      <td>80</td>\n",
       "      <td>2PM</td>\n",
       "      <td>Coffee House</td>\n",
       "      <td>2h</td>\n",
       "      <td>Female</td>\n",
       "      <td>21</td>\n",
       "      <td>Unmarried partner</td>\n",
       "      <td>...</td>\n",
       "      <td>never</td>\n",
       "      <td>NaN</td>\n",
       "      <td>4~8</td>\n",
       "      <td>1~3</td>\n",
       "      <td>1</td>\n",
       "      <td>1</td>\n",
       "      <td>0</td>\n",
       "      <td>0</td>\n",
       "      <td>1</td>\n",
       "      <td>0</td>\n",
       "    </tr>\n",
       "    <tr>\n",
       "      <th>4</th>\n",
       "      <td>No Urgent Place</td>\n",
       "      <td>Friend(s)</td>\n",
       "      <td>Sunny</td>\n",
       "      <td>80</td>\n",
       "      <td>2PM</td>\n",
       "      <td>Coffee House</td>\n",
       "      <td>1d</td>\n",
       "      <td>Female</td>\n",
       "      <td>21</td>\n",
       "      <td>Unmarried partner</td>\n",
       "      <td>...</td>\n",
       "      <td>never</td>\n",
       "      <td>NaN</td>\n",
       "      <td>4~8</td>\n",
       "      <td>1~3</td>\n",
       "      <td>1</td>\n",
       "      <td>1</td>\n",
       "      <td>0</td>\n",
       "      <td>0</td>\n",
       "      <td>1</td>\n",
       "      <td>0</td>\n",
       "    </tr>\n",
       "  </tbody>\n",
       "</table>\n",
       "<p>5 rows × 26 columns</p>\n",
       "</div>"
      ],
      "text/plain": [
       "       destination  passanger weather  temperature  time  \\\n",
       "0  No Urgent Place      Alone   Sunny           55   2PM   \n",
       "1  No Urgent Place  Friend(s)   Sunny           80  10AM   \n",
       "2  No Urgent Place  Friend(s)   Sunny           80  10AM   \n",
       "3  No Urgent Place  Friend(s)   Sunny           80   2PM   \n",
       "4  No Urgent Place  Friend(s)   Sunny           80   2PM   \n",
       "\n",
       "                  coupon expiration  gender age      maritalStatus  ...  \\\n",
       "0        Restaurant(<20)         1d  Female  21  Unmarried partner  ...   \n",
       "1           Coffee House         2h  Female  21  Unmarried partner  ...   \n",
       "2  Carry out & Take away         2h  Female  21  Unmarried partner  ...   \n",
       "3           Coffee House         2h  Female  21  Unmarried partner  ...   \n",
       "4           Coffee House         1d  Female  21  Unmarried partner  ...   \n",
       "\n",
       "   CoffeeHouse CarryAway RestaurantLessThan20 Restaurant20To50  \\\n",
       "0        never       NaN                  4~8              1~3   \n",
       "1        never       NaN                  4~8              1~3   \n",
       "2        never       NaN                  4~8              1~3   \n",
       "3        never       NaN                  4~8              1~3   \n",
       "4        never       NaN                  4~8              1~3   \n",
       "\n",
       "  toCoupon_GEQ5min toCoupon_GEQ15min toCoupon_GEQ25min direction_same  \\\n",
       "0                1                 0                 0              0   \n",
       "1                1                 0                 0              0   \n",
       "2                1                 1                 0              0   \n",
       "3                1                 1                 0              0   \n",
       "4                1                 1                 0              0   \n",
       "\n",
       "  direction_opp  Y  \n",
       "0             1  1  \n",
       "1             1  0  \n",
       "2             1  1  \n",
       "3             1  0  \n",
       "4             1  0  \n",
       "\n",
       "[5 rows x 26 columns]"
      ]
     },
     "execution_count": 12,
     "metadata": {},
     "output_type": "execute_result"
    }
   ],
   "source": [
    "data.head()"
   ]
  },
  {
   "cell_type": "markdown",
   "metadata": {
    "id": "l2bwieN4oyA1"
   },
   "source": [
    "2. Investigate the dataset for missing or problematic data."
   ]
  },
  {
   "cell_type": "code",
   "execution_count": 13,
   "metadata": {
    "colab": {
     "base_uri": "https://localhost:8080/"
    },
    "executionInfo": {
     "elapsed": 8,
     "status": "ok",
     "timestamp": 1715654643551,
     "user": {
      "displayName": "Mimi Bhattacharjee",
      "userId": "12057613057432470560"
     },
     "user_tz": 420
    },
    "id": "2ECReFWTrulC",
    "outputId": "19dfbb0e-1a50-4e8f-9d91-01849e816d3d"
   },
   "outputs": [
    {
     "data": {
      "text/plain": [
       "(12684, 26)"
      ]
     },
     "execution_count": 13,
     "metadata": {},
     "output_type": "execute_result"
    }
   ],
   "source": [
    "data.shape"
   ]
  },
  {
   "cell_type": "code",
   "execution_count": 14,
   "metadata": {
    "colab": {
     "base_uri": "https://localhost:8080/"
    },
    "executionInfo": {
     "elapsed": 6,
     "status": "ok",
     "timestamp": 1715654643551,
     "user": {
      "displayName": "Mimi Bhattacharjee",
      "userId": "12057613057432470560"
     },
     "user_tz": 420
    },
    "id": "FhYOGrscoyA2",
    "outputId": "6c0f5ff8-e573-44f1-9bfd-b7cad326252a"
   },
   "outputs": [
    {
     "data": {
      "text/plain": [
       "destination                 0\n",
       "passanger                   0\n",
       "weather                     0\n",
       "temperature                 0\n",
       "time                        0\n",
       "coupon                      0\n",
       "expiration                  0\n",
       "gender                      0\n",
       "age                         0\n",
       "maritalStatus               0\n",
       "has_children                0\n",
       "education                   0\n",
       "occupation                  0\n",
       "income                      0\n",
       "car                     12576\n",
       "Bar                       107\n",
       "CoffeeHouse               217\n",
       "CarryAway                 151\n",
       "RestaurantLessThan20      130\n",
       "Restaurant20To50          189\n",
       "toCoupon_GEQ5min            0\n",
       "toCoupon_GEQ15min           0\n",
       "toCoupon_GEQ25min           0\n",
       "direction_same              0\n",
       "direction_opp               0\n",
       "Y                           0\n",
       "dtype: int64"
      ]
     },
     "execution_count": 14,
     "metadata": {},
     "output_type": "execute_result"
    }
   ],
   "source": [
    "data.isnull().sum()"
   ]
  },
  {
   "cell_type": "markdown",
   "metadata": {
    "id": "9HlaShMDoyA2"
   },
   "source": [
    "3. Decide what to do about your missing data -- drop, replace, other..."
   ]
  },
  {
   "cell_type": "code",
   "execution_count": 15,
   "metadata": {
    "colab": {
     "base_uri": "https://localhost:8080/"
    },
    "executionInfo": {
     "elapsed": 344,
     "status": "ok",
     "timestamp": 1715654643890,
     "user": {
      "displayName": "Mimi Bhattacharjee",
      "userId": "12057613057432470560"
     },
     "user_tz": 420
    },
    "id": "7IfjPHFq788G",
    "outputId": "19b9ecea-9fa9-4366-db78-9bad9170defc"
   },
   "outputs": [
    {
     "data": {
      "text/plain": [
       "(12684, 25)"
      ]
     },
     "execution_count": 15,
     "metadata": {},
     "output_type": "execute_result"
    }
   ],
   "source": [
    "#Since a significant (more than 20%) of the data in car column is Nan, I am dropping that column from the dataframe\n",
    "data1 = data.drop(['car'], axis=1)\n",
    "data1.shape"
   ]
  },
  {
   "cell_type": "code",
   "execution_count": 16,
   "metadata": {
    "colab": {
     "base_uri": "https://localhost:8080/"
    },
    "executionInfo": {
     "elapsed": 14,
     "status": "ok",
     "timestamp": 1715654643891,
     "user": {
      "displayName": "Mimi Bhattacharjee",
      "userId": "12057613057432470560"
     },
     "user_tz": 420
    },
    "id": "LflLtfOQ8_7n",
    "outputId": "c550f279-5eed-44e8-ebbe-0d99afe5b16d"
   },
   "outputs": [
    {
     "data": {
      "text/plain": [
       "never    5197\n",
       "less1    3482\n",
       "1~3      2473\n",
       "4~8      1076\n",
       "gt8       349\n",
       "Name: Bar, dtype: int64"
      ]
     },
     "execution_count": 16,
     "metadata": {},
     "output_type": "execute_result"
    }
   ],
   "source": [
    "data1['Bar'].value_counts()"
   ]
  },
  {
   "cell_type": "code",
   "execution_count": 17,
   "metadata": {
    "colab": {
     "base_uri": "https://localhost:8080/"
    },
    "executionInfo": {
     "elapsed": 12,
     "status": "ok",
     "timestamp": 1715654643891,
     "user": {
      "displayName": "Mimi Bhattacharjee",
      "userId": "12057613057432470560"
     },
     "user_tz": 420
    },
    "id": "4_fd1Ub69rwg",
    "outputId": "9eb8247b-d09b-4f73-d42f-b1d0515a8d29"
   },
   "outputs": [
    {
     "data": {
      "text/plain": [
       "never    5304\n",
       "less1    3482\n",
       "1~3      2473\n",
       "4~8      1076\n",
       "gt8       349\n",
       "Name: Bar, dtype: int64"
      ]
     },
     "execution_count": 17,
     "metadata": {},
     "output_type": "execute_result"
    }
   ],
   "source": [
    "#since Bar is a categorical variable, fill in the null values with the most frequently used value or the mode which is 'never'\n",
    "data1['Bar'].fillna('never', inplace=True)\n",
    "data1['Bar'].value_counts()"
   ]
  },
  {
   "cell_type": "code",
   "execution_count": 18,
   "metadata": {
    "colab": {
     "base_uri": "https://localhost:8080/"
    },
    "executionInfo": {
     "elapsed": 11,
     "status": "ok",
     "timestamp": 1715654643891,
     "user": {
      "displayName": "Mimi Bhattacharjee",
      "userId": "12057613057432470560"
     },
     "user_tz": 420
    },
    "id": "mHkK4DoHBz3S",
    "outputId": "b5a48284-e4f9-4657-f533-22e1053a9cb3"
   },
   "outputs": [
    {
     "data": {
      "text/plain": [
       "less1    3385\n",
       "1~3      3225\n",
       "never    2962\n",
       "4~8      1784\n",
       "gt8      1111\n",
       "Name: CoffeeHouse, dtype: int64"
      ]
     },
     "execution_count": 18,
     "metadata": {},
     "output_type": "execute_result"
    }
   ],
   "source": [
    "data1['CoffeeHouse'].value_counts()"
   ]
  },
  {
   "cell_type": "code",
   "execution_count": 19,
   "metadata": {
    "colab": {
     "base_uri": "https://localhost:8080/"
    },
    "executionInfo": {
     "elapsed": 9,
     "status": "ok",
     "timestamp": 1715654643891,
     "user": {
      "displayName": "Mimi Bhattacharjee",
      "userId": "12057613057432470560"
     },
     "user_tz": 420
    },
    "id": "fJiH0wP7CCww",
    "outputId": "8419468b-154c-4ae7-d67f-e6e81dc0f474"
   },
   "outputs": [
    {
     "data": {
      "text/plain": [
       "less1    3602\n",
       "1~3      3225\n",
       "never    2962\n",
       "4~8      1784\n",
       "gt8      1111\n",
       "Name: CoffeeHouse, dtype: int64"
      ]
     },
     "execution_count": 19,
     "metadata": {},
     "output_type": "execute_result"
    }
   ],
   "source": [
    "coffeehouse_mode = data1['CoffeeHouse'].mode()[0]\n",
    "data1['CoffeeHouse'].fillna(coffeehouse_mode,inplace=True)\n",
    "data1['CoffeeHouse'].isnull().sum()\n",
    "data1['CoffeeHouse'].value_counts()\n"
   ]
  },
  {
   "cell_type": "code",
   "execution_count": 20,
   "metadata": {
    "colab": {
     "base_uri": "https://localhost:8080/"
    },
    "executionInfo": {
     "elapsed": 8,
     "status": "ok",
     "timestamp": 1715654643891,
     "user": {
      "displayName": "Mimi Bhattacharjee",
      "userId": "12057613057432470560"
     },
     "user_tz": 420
    },
    "id": "hFtrM9XJHDhz",
    "outputId": "37e109f8-bc2a-4cbb-b9b6-c253ce989af2"
   },
   "outputs": [
    {
     "data": {
      "text/plain": [
       "0"
      ]
     },
     "execution_count": 20,
     "metadata": {},
     "output_type": "execute_result"
    }
   ],
   "source": [
    "#replacing with the mode which is 1~3\n",
    "CarryAway_mode = data1['CarryAway'].mode()[0]\n",
    "#data1['CarryAway'].value_counts()\n",
    "data1['CarryAway'].fillna(CarryAway_mode,inplace=True)\n",
    "data1['CarryAway'].isnull().sum()"
   ]
  },
  {
   "cell_type": "code",
   "execution_count": 21,
   "metadata": {
    "colab": {
     "base_uri": "https://localhost:8080/"
    },
    "executionInfo": {
     "elapsed": 7,
     "status": "ok",
     "timestamp": 1715654643891,
     "user": {
      "displayName": "Mimi Bhattacharjee",
      "userId": "12057613057432470560"
     },
     "user_tz": 420
    },
    "id": "l32Op3M3HgfU",
    "outputId": "e5e7baf5-4ad3-4fe1-8dde-b484579c4d90"
   },
   "outputs": [
    {
     "data": {
      "text/plain": [
       "0"
      ]
     },
     "execution_count": 21,
     "metadata": {},
     "output_type": "execute_result"
    }
   ],
   "source": [
    "RestaurantLessThan20_mode = data1['RestaurantLessThan20'].mode()[0]\n",
    "#data1['RestaurantLessThan20'].value_counts()\n",
    "data1['RestaurantLessThan20'].fillna(RestaurantLessThan20_mode, inplace=True)\n",
    "data1['RestaurantLessThan20'].isnull().sum()"
   ]
  },
  {
   "cell_type": "code",
   "execution_count": 22,
   "metadata": {
    "colab": {
     "base_uri": "https://localhost:8080/"
    },
    "executionInfo": {
     "elapsed": 6,
     "status": "ok",
     "timestamp": 1715654643891,
     "user": {
      "displayName": "Mimi Bhattacharjee",
      "userId": "12057613057432470560"
     },
     "user_tz": 420
    },
    "id": "irTSMKKRK9uQ",
    "outputId": "77956992-a73e-46c3-b1df-445285e81159"
   },
   "outputs": [
    {
     "data": {
      "text/plain": [
       "array(['1~3', 'less1', 'never', 'gt8', '4~8'], dtype=object)"
      ]
     },
     "execution_count": 22,
     "metadata": {},
     "output_type": "execute_result"
    }
   ],
   "source": [
    "Restaurant20To50_mode = data1['Restaurant20To50'].mode()[0]\n",
    "data1['Restaurant20To50'].fillna(Restaurant20To50_mode, inplace=True)\n",
    "data1['Restaurant20To50'].isnull().sum()\n",
    "data1['Restaurant20To50'].unique()\n"
   ]
  },
  {
   "cell_type": "markdown",
   "metadata": {
    "id": "8NNr2wsIoyA2"
   },
   "source": [
    "4. What proportion of the total observations chose to accept the coupon?\n",
    "\n"
   ]
  },
  {
   "cell_type": "code",
   "execution_count": 23,
   "metadata": {
    "colab": {
     "base_uri": "https://localhost:8080/"
    },
    "executionInfo": {
     "elapsed": 5,
     "status": "ok",
     "timestamp": 1715654643891,
     "user": {
      "displayName": "Mimi Bhattacharjee",
      "userId": "12057613057432470560"
     },
     "user_tz": 420
    },
    "id": "8E92Q3zHRcKZ",
    "outputId": "cc5e525c-b998-4843-830a-c2b759e0b0db"
   },
   "outputs": [
    {
     "data": {
      "text/plain": [
       "0.5684326710816777"
      ]
     },
     "execution_count": 23,
     "metadata": {},
     "output_type": "execute_result"
    }
   ],
   "source": [
    "total_response = len(data1)\n",
    "total_accepted = data1[data1['Y']==1].shape[0]/total_response\n",
    "total_accepted"
   ]
  },
  {
   "cell_type": "markdown",
   "metadata": {
    "id": "3DGMyV1rSpli"
   },
   "source": [
    "56.84% chose to accept the cuopon"
   ]
  },
  {
   "cell_type": "markdown",
   "metadata": {
    "id": "JS_lfw-QSnbb"
   },
   "source": []
  },
  {
   "cell_type": "markdown",
   "metadata": {
    "id": "11QJA7QioyA3"
   },
   "source": [
    "5. Use a bar plot to visualize the `coupon` column."
   ]
  },
  {
   "cell_type": "code",
   "execution_count": 24,
   "metadata": {
    "colab": {
     "base_uri": "https://localhost:8080/",
     "height": 507
    },
    "executionInfo": {
     "elapsed": 453,
     "status": "ok",
     "timestamp": 1715654644341,
     "user": {
      "displayName": "Mimi Bhattacharjee",
      "userId": "12057613057432470560"
     },
     "user_tz": 420
    },
    "id": "MnsYzFkloyA3",
    "outputId": "d2266a87-d5d8-45ca-bb08-156de7e49684"
   },
   "outputs": [
    {
     "data": {
      "image/png": "[encoded data removed]",
      "text/plain": [
       "<Figure size 800x500 with 1 Axes>"
      ]
     },
     "metadata": {},
     "output_type": "display_data"
    }
   ],
   "source": [
    "#sns.displot(x = 'Y', data = data1)\n",
    "plt.figure(figsize=(8,5))\n",
    "y_counts = data1['Y'].value_counts()\n",
    "sns.barplot(x =y_counts.index, y= y_counts.values)\n",
    "plt.xticks(ticks=[0, 1], labels=['No', 'Yes'])\n",
    "plt.xlabel('Coupon Accepted')\n",
    "plt.ylabel('Count')\n",
    "plt.title('Distribution of Coupon Acceptance (Y)')\n",
    "plt.tight_layout()\n",
    "plt.show()\n",
    "\n"
   ]
  },
  {
   "cell_type": "markdown",
   "metadata": {
    "id": "BkplmPr2oyA3"
   },
   "source": [
    "6. Use a histogram to visualize the temperature column."
   ]
  },
  {
   "cell_type": "code",
   "execution_count": 25,
   "metadata": {
    "colab": {
     "base_uri": "https://localhost:8080/",
     "height": 523
    },
    "executionInfo": {
     "elapsed": 688,
     "status": "ok",
     "timestamp": 1715654645028,
     "user": {
      "displayName": "Mimi Bhattacharjee",
      "userId": "12057613057432470560"
     },
     "user_tz": 420
    },
    "id": "fzqKnu9IoyA3",
    "outputId": "4814cf22-7a69-4e57-a13a-cb7e272fb58b"
   },
   "outputs": [
    {
     "data": {
      "text/plain": [
       "<seaborn.axisgrid.FacetGrid at 0x294bae64b90>"
      ]
     },
     "execution_count": 25,
     "metadata": {},
     "output_type": "execute_result"
    },
    {
     "data": {
      "image/png": "[encoded data removed]",
      "text/plain": [
       "<Figure size 500x500 with 1 Axes>"
      ]
     },
     "metadata": {},
     "output_type": "display_data"
    }
   ],
   "source": [
    "sns.displot(data = data1, x='temperature')"
   ]
  },
  {
   "cell_type": "markdown",
   "metadata": {
    "id": "6eYwWPRJoyA3"
   },
   "source": [
    "**Investigating the Bar Coupons**\n",
    "\n",
    "Now, we will lead you through an exploration of just the bar related coupons.  \n",
    "\n",
    "1. Create a new `DataFrame` that contains just the bar coupons.\n"
   ]
  },
  {
   "cell_type": "code",
   "execution_count": 26,
   "metadata": {
    "colab": {
     "base_uri": "https://localhost:8080/"
    },
    "executionInfo": {
     "elapsed": 5,
     "status": "ok",
     "timestamp": 1715654645029,
     "user": {
      "displayName": "Mimi Bhattacharjee",
      "userId": "12057613057432470560"
     },
     "user_tz": 420
    },
    "id": "vDokh-XPoyA4",
    "outputId": "1a0dbe45-e01a-46e2-9e93-f01dfe211dba"
   },
   "outputs": [
    {
     "data": {
      "text/plain": [
       "(2017, 25)"
      ]
     },
     "execution_count": 26,
     "metadata": {},
     "output_type": "execute_result"
    }
   ],
   "source": [
    "data1.columns\n",
    "data_bar = data1[data1['coupon'] == 'Bar']\n",
    "data_bar.shape\n",
    "\n",
    "\n"
   ]
  },
  {
   "cell_type": "markdown",
   "metadata": {
    "id": "gNmPJeUioyA4"
   },
   "source": [
    "2. What proportion of bar coupons were accepted?\n"
   ]
  },
  {
   "cell_type": "code",
   "execution_count": 27,
   "metadata": {
    "colab": {
     "base_uri": "https://localhost:8080/"
    },
    "executionInfo": {
     "elapsed": 189,
     "status": "ok",
     "timestamp": 1715654645214,
     "user": {
      "displayName": "Mimi Bhattacharjee",
      "userId": "12057613057432470560"
     },
     "user_tz": 420
    },
    "id": "udDE_gx0oyA4",
    "outputId": "42d5bc15-b12b-45a3-f7fb-2f392eeb51ed"
   },
   "outputs": [
    {
     "name": "stdout",
     "output_type": "stream",
     "text": [
      "827\n"
     ]
    },
    {
     "data": {
      "text/plain": [
       "0.41001487357461575"
      ]
     },
     "execution_count": 27,
     "metadata": {},
     "output_type": "execute_result"
    }
   ],
   "source": [
    "total_bar_cuopons_offered = len(data_bar)\n",
    "print(data_bar[data_bar['Y'] == 1].shape[0])\n",
    "proportion_bar_coupon_accepted = data_bar[data_bar['Y'] == 1].shape[0]/total_bar_cuopons_offered\n",
    "\n",
    "proportion_bar_coupon_accepted"
   ]
  },
  {
   "cell_type": "markdown",
   "metadata": {
    "id": "jeQrA7nmpASQ"
   },
   "source": [
    "*41% of the bar coupons were accepted*"
   ]
  },
  {
   "cell_type": "markdown",
   "metadata": {
    "id": "-LK-J-bRoyA4"
   },
   "source": [
    "3. Compare the acceptance rate between those who went to a bar 3 or fewer times a month to those who went more.\n"
   ]
  },
  {
   "cell_type": "code",
   "execution_count": 28,
   "metadata": {
    "colab": {
     "base_uri": "https://localhost:8080/"
    },
    "executionInfo": {
     "elapsed": 8,
     "status": "ok",
     "timestamp": 1715654645215,
     "user": {
      "displayName": "Mimi Bhattacharjee",
      "userId": "12057613057432470560"
     },
     "user_tz": 420
    },
    "id": "7esCY4IPoyA4",
    "outputId": "2645b8be-30e7-4056-92ab-72c73200c8fe"
   },
   "outputs": [
    {
     "name": "stdout",
     "output_type": "stream",
     "text": [
      "Acceptance Rate 1: 37.07%\n",
      "Acceptance Rate 2: 76.88%\n"
     ]
    }
   ],
   "source": [
    "#print(data_bar['Bar'].value_counts()) #this gives the count for each value\n",
    "data_bar['Bar'].unique() #['never', 'less1', '1~3', 'gt8', '4~8']\n",
    "#group_1 drivers who went 3 or fewer times\n",
    "group_1 = data_bar[data_bar['Bar'].isin([ 'never','less1' , '1~3'])]\n",
    "#group_2 drivers who went more than 3 times\n",
    "group_2 = data_bar[data_bar['Bar'].isin([ 'gt8', '4~8'])]\n",
    "acceptance_rate_1 = group_1['Y'].mean()\n",
    "acceptance_rate_2 = group_2['Y'].mean()\n",
    "print(f\"Acceptance Rate 1: {acceptance_rate_1:.2%}\")\n",
    "print(f\"Acceptance Rate 2: {acceptance_rate_2:.2%}\")\n"
   ]
  },
  {
   "cell_type": "markdown",
   "metadata": {
    "id": "-f-moht9Z4Tz"
   },
   "source": [
    "*The Acceptance rate for drivers who went to bar 3 or fewer times is almost half of those who went more than 3 times.*"
   ]
  },
  {
   "cell_type": "markdown",
   "metadata": {
    "id": "8VH0LGaRoyA4"
   },
   "source": [
    "4. Compare the acceptance rate between drivers who go to a bar more than once a month and are over the age of 25 to the all others.  Is there a difference?\n"
   ]
  },
  {
   "cell_type": "code",
   "execution_count": 29,
   "metadata": {
    "colab": {
     "base_uri": "https://localhost:8080/"
    },
    "executionInfo": {
     "elapsed": 6,
     "status": "ok",
     "timestamp": 1715654645215,
     "user": {
      "displayName": "Mimi Bhattacharjee",
      "userId": "12057613057432470560"
     },
     "user_tz": 420
    },
    "id": "BopO0BOkoyA4",
    "outputId": "9869a673-d349-438c-f6fd-232d8d06a75a"
   },
   "outputs": [
    {
     "name": "stdout",
     "output_type": "stream",
     "text": [
      "Acceptance rate for Group 1: 69.52%\n",
      "Acceptance rate for Group 2: 33.50%\n",
      "Difference in Acceptance Rate: 36.02%\n"
     ]
    }
   ],
   "source": [
    "data_bar['age'].unique() #['21', '46', '26', '31', '41', '50plus', '36', 'below21']\n",
    "#Clean up the strings in the age column\n",
    "def is_over_25(age_str):\n",
    "  if age_str == '50plus':\n",
    "    return True\n",
    "  elif age_str == 'below21':\n",
    "    return False\n",
    "  else:\n",
    "    #handling age formats like 'XXplus' or 'XX'\n",
    "    base_age = age_str.replace('plus','')\n",
    "    return int(base_age) > 25\n",
    "#Filter the data set into 2 groups\n",
    "\n",
    "#group1 - drivers going to bar over 25 years old and goes more than once a month\n",
    "group1 = data_bar[data_bar['Bar'].isin(['1~3', 'gt8', '4~8']) & data_bar['age'].apply(is_over_25)]\n",
    "\n",
    "#group2 -  drivers who may not be over 25 years old or may not be going once or more or both\n",
    "group2 = data_bar[~((data_bar['Bar'].isin(['1~3', '4~8', 'gt8']) &\n",
    "                          data_bar['age'].apply(is_over_25)))]\n",
    "\n",
    "#acceptance rate of each group\n",
    "acceptance_rate_1 = group1['Y'].mean()\n",
    "acceptance_rate_2 = group2['Y'].mean()\n",
    "\n",
    "print(f\"Acceptance rate for Group 1: {acceptance_rate_1:.2%}\")\n",
    "print(f\"Acceptance rate for Group 2: {acceptance_rate_2:.2%}\")\n",
    "print(f\"Difference in Acceptance Rate: {acceptance_rate_1 - acceptance_rate_2:.2%}\")\n",
    "\n"
   ]
  },
  {
   "cell_type": "markdown",
   "metadata": {
    "id": "TlG3DScmaXef"
   },
   "source": [
    "*The acceptance rate for drivers who go to bar more than once a month and 25 years or older is more than double that of the rest*"
   ]
  },
  {
   "cell_type": "markdown",
   "metadata": {
    "id": "nj1VIIwdoyA4"
   },
   "source": [
    "5. Use the same process to compare the acceptance rate between drivers who go to bars more than once a month and had passengers that were not a kid and had occupations other than farming, fishing, or forestry.\n"
   ]
  },
  {
   "cell_type": "code",
   "execution_count": 30,
   "metadata": {
    "colab": {
     "base_uri": "https://localhost:8080/"
    },
    "executionInfo": {
     "elapsed": 5,
     "status": "ok",
     "timestamp": 1715654645215,
     "user": {
      "displayName": "Mimi Bhattacharjee",
      "userId": "12057613057432470560"
     },
     "user_tz": 420
    },
    "id": "fohyDVXKoyA4",
    "outputId": "8c1f624d-32ba-484d-94f8-190929c43418"
   },
   "outputs": [
    {
     "name": "stdout",
     "output_type": "stream",
     "text": [
      "Acceptance Rate:  71.32%\n"
     ]
    }
   ],
   "source": [
    "data_bar['passanger'].unique() #['Kid(s)', 'Alone', 'Friend(s)', 'Partner']\n",
    "data_bar['occupation'].unique() #one of the values is 'Farming Fishing & Forestry'\n",
    "\n",
    "#Finding drivers who go to the bar and have passengers who are not kids and occupation is not 'Farming Fishing & Forestry'\n",
    "more_than_once = data_bar['Bar'].isin(['1~3', '4~8', 'gt8'])\n",
    "no_kids = data_bar['passanger'] != 'Kid(s)'\n",
    "occupation_not_forestry = ~data_bar['occupation'].isin(['Farming Fishing & Forestry'])\n",
    "\n",
    "#combining all the above filters\n",
    "filtered_data = data_bar[more_than_once & no_kids & occupation_not_forestry]\n",
    "acceptance_rate = filtered_data['Y'].mean()\n",
    "\n",
    "print(f\"Acceptance Rate: {acceptance_rate: .2%}\")\n",
    "\n",
    "\n"
   ]
  },
  {
   "cell_type": "markdown",
   "metadata": {
    "id": "OewHhlll-kbg"
   },
   "source": [
    "*The acceptance rate for cuopon is pretty high for drivers who go to bar more than once a month, have passangers who are not kids and the occupation is not 'Farming, Fishing & Forestry'*"
   ]
  },
  {
   "cell_type": "markdown",
   "metadata": {
    "id": "jAjJUAvqoyA4"
   },
   "source": [
    "6. Compare the acceptance rates between those drivers who:\n",
    "\n",
    "- go to bars more than once a month, had passengers that were not a kid, and were not widowed *OR*\n",
    "- go to bars more than once a month and are under the age of 30 *OR*\n",
    "- go to cheap restaurants more than 4 times a month and income is less than 50K.\n",
    "\n"
   ]
  },
  {
   "cell_type": "code",
   "execution_count": 31,
   "metadata": {
    "colab": {
     "base_uri": "https://localhost:8080/"
    },
    "executionInfo": {
     "elapsed": 4,
     "status": "ok",
     "timestamp": 1715654645215,
     "user": {
      "displayName": "Mimi Bhattacharjee",
      "userId": "12057613057432470560"
     },
     "user_tz": 420
    },
    "id": "NecjPMQ2oyA4",
    "outputId": "3a888ef0-8821-42d8-cb47-1938a81fdea6"
   },
   "outputs": [
    {
     "name": "stdout",
     "output_type": "stream",
     "text": [
      "Acceptance Rate 1: 71.32%\n",
      "Acceptance Rate 2: 72.17%\n",
      "Acceptance Rate 3: 45.35%\n"
     ]
    }
   ],
   "source": [
    "def is_under_30(age_str):\n",
    "  if age_str == 'below21':\n",
    "    return True\n",
    "  elif age_str == '50plus':\n",
    "    return False\n",
    "  else:\n",
    "    base_age = age_str.replace('plus','')\n",
    "    return int(base_age) < 30\n",
    "\n",
    "def income_less_than_50(income_str):\n",
    "  if income_str in ['$37500 - $49999','$12500 - $24999','$25000 - $37499','Less than $12500']:\n",
    "    return True\n",
    "  return False\n",
    "\n",
    "\n",
    "#group_1 - go to bar more than once, had passengers who were not kids, and not widowed\n",
    "data_bar['maritalStatus'].unique() #['Unmarried partner', 'Single', 'Married partner', 'Divorced','Widowed']\n",
    "group_1 = data_bar[((data_bar['Bar'].isin(['1~3', '4~8', 'gt8'])) & (data_bar['passanger'] != 'Kid(s)') & (data_bar['maritalStatus'] != 'Widowed'))]\n",
    "\n",
    "#group_2 - go to bar more than once a month and are under the age of 30\n",
    "group_2 = data_bar[((data_bar['Bar'].isin(['1~3', '4~8', 'gt8'])) & (data_bar['age'].apply(is_under_30)))]\n",
    "\n",
    "#group_3 - go to cheap restaurant more than 4 times a month and income is less than 50k\n",
    "data_bar['RestaurantLessThan20'].unique() #['4~8', '1~3', 'less1', 'gt8', 'never']\n",
    "data_bar['income'].unique()\n",
    "#['$37500 - $49999', '$62500 - $74999', '$12500 - $24999','$75000 - $87499', '$50000 - $62499', '$25000 - $37499','$100000 or More', '$87500 - $99999', 'Less than $12500']\n",
    "\n",
    "group_3 = data_bar[(data_bar['RestaurantLessThan20'].isin(['4~8', 'gt8'])) & (data_bar['income'].apply(income_less_than_50))]\n",
    "acceptance_rate_1 = group_1['Y'].mean()\n",
    "acceptance_rate_2 = group_2['Y'].mean()\n",
    "acceptance_rate_3 = group_3['Y'].mean()\n",
    "\n",
    "print(f\"Acceptance Rate 1: {acceptance_rate_1:.2%}\")\n",
    "print(f\"Acceptance Rate 2: {acceptance_rate_2:.2%}\")\n",
    "print(f\"Acceptance Rate 3: {acceptance_rate_3:.2%}\")\n",
    "\n"
   ]
  },
  {
   "cell_type": "markdown",
   "metadata": {
    "id": "i8BAyo7OoyA4"
   },
   "source": [
    "7.  Based on these observations, what do you hypothesize about drivers who accepted the bar coupons?"
   ]
  },
  {
   "cell_type": "markdown",
   "metadata": {
    "id": "Y19S9Hbb4nSP"
   },
   "source": [
    "*Based on the above calculations, drivers who have income less than 50K and go to the cheap restuarants tend to **not** accept the cuopon that often.\n",
    "The majority who accepted the bar cuopons are the drivers who go to bar more than once a month and who do not have kid passenger and not widowed OR they are under the age of 30 and go to bar more than once a month. *\n"
   ]
  },
  {
   "cell_type": "markdown",
   "metadata": {
    "id": "OkJTivgFoyA5"
   },
   "source": [
    "### Independent Investigation\n",
    "\n",
    "Using the bar coupon example as motivation, you are to explore one of the other coupon groups and try to determine the characteristics of passengers who accept the coupons.  "
   ]
  },
  {
   "cell_type": "markdown",
   "metadata": {
    "id": "JE9x5TU2CFEZ"
   },
   "source": [
    "# Investigating the Coffee Coupons"
   ]
  },
  {
   "cell_type": "code",
   "execution_count": 32,
   "metadata": {
    "colab": {
     "base_uri": "https://localhost:8080/"
    },
    "executionInfo": {
     "elapsed": 9,
     "status": "ok",
     "timestamp": 1715654645423,
     "user": {
      "displayName": "Mimi Bhattacharjee",
      "userId": "12057613057432470560"
     },
     "user_tz": 420
    },
    "id": "4hyb4z07oyA5",
    "outputId": "3bfddc8b-0ba2-445d-8d98-fc654f551355"
   },
   "outputs": [
    {
     "data": {
      "text/plain": [
       "(3996, 25)"
      ]
     },
     "execution_count": 32,
     "metadata": {},
     "output_type": "execute_result"
    }
   ],
   "source": [
    "#dataframe containing only coffee coupons\n",
    "data1['coupon'].unique() #['Restaurant(<20)', 'Coffee House', 'Carry out & Take away', 'Bar', 'Restaurant(20-50)']\n",
    "data_coffee = data1[data1['coupon'] == 'Coffee House']\n",
    "data_coffee.shape"
   ]
  },
  {
   "cell_type": "markdown",
   "metadata": {
    "id": "RNQOoW8SdQUx"
   },
   "source": [
    "**1**. **What proportion of coffee coupons were accepted?**"
   ]
  },
  {
   "cell_type": "code",
   "execution_count": 33,
   "metadata": {
    "colab": {
     "base_uri": "https://localhost:8080/"
    },
    "executionInfo": {
     "elapsed": 8,
     "status": "ok",
     "timestamp": 1715654645423,
     "user": {
      "displayName": "Mimi Bhattacharjee",
      "userId": "12057613057432470560"
     },
     "user_tz": 420
    },
    "id": "-RHDkKQHdXyh",
    "outputId": "b97a4be8-98be-4e17-cbe2-4002d2139865"
   },
   "outputs": [
    {
     "name": "stdout",
     "output_type": "stream",
     "text": [
      "Proportion of Coffee cuopons accepted:  49.92%\n"
     ]
    }
   ],
   "source": [
    "total_coffee_cuopons = len(data_coffee)\n",
    "total_coffee_cuopons_accepted = data_coffee[data_coffee['Y'] == 1].shape[0]\n",
    "\n",
    "print(f\"Proportion of Coffee cuopons accepted: {total_coffee_cuopons_accepted/ total_coffee_cuopons: .2%}\")\n"
   ]
  },
  {
   "cell_type": "markdown",
   "metadata": {
    "id": "NFDaSDGe28kK"
   },
   "source": [
    "*Almost 50% of the drivers who go to coffee house accepted the cuopon*"
   ]
  },
  {
   "cell_type": "markdown",
   "metadata": {
    "id": "h8Fvf3g6xAvd"
   },
   "source": [
    "**2. Compare the acceptance rate between those who went to for coffee  3 or fewer times a month to those who went more.**\n"
   ]
  },
  {
   "cell_type": "code",
   "execution_count": 34,
   "metadata": {
    "colab": {
     "base_uri": "https://localhost:8080/"
    },
    "executionInfo": {
     "elapsed": 8,
     "status": "ok",
     "timestamp": 1715654645424,
     "user": {
      "displayName": "Mimi Bhattacharjee",
      "userId": "12057613057432470560"
     },
     "user_tz": 420
    },
    "id": "bQtvzvFfoyA5",
    "outputId": "b575c156-b75b-4043-809a-6f1e7bb0879b"
   },
   "outputs": [
    {
     "name": "stdout",
     "output_type": "stream",
     "text": [
      "Acceptance Rate 1: 44.96%\n",
      "Acceptance Rate 2: 67.50%\n"
     ]
    }
   ],
   "source": [
    "data_coffee['CoffeeHouse'].unique() #['never', 'less1', '4~8', '1~3', 'gt8']\n",
    "#group_1 - 3 or fewer times\n",
    "group_1 = data_coffee[data_coffee['CoffeeHouse'].isin(['never', 'less1','1~3'])]\n",
    "#group_2 - more than 3 times\n",
    "group_2 = data_coffee[data_coffee['CoffeeHouse'].isin(['4~8', 'gt8'])]\n",
    "acceptance_rate_1 = group_1['Y'].mean()\n",
    "acceptance_rate_2 = group_2['Y'].mean()\n",
    "print(f\"Acceptance Rate 1: {acceptance_rate_1:.2%}\")\n",
    "print(f\"Acceptance Rate 2: {acceptance_rate_2:.2%}\")"
   ]
  },
  {
   "cell_type": "markdown",
   "metadata": {
    "id": "AyqEd4pVzQAt"
   },
   "source": [
    "*The acceptance rate for the coffee cuopon for people who went to coffee house more than 3 times is more than that of people who went 3 or less than 3 times.*\n"
   ]
  },
  {
   "cell_type": "markdown",
   "metadata": {
    "id": "fp5pVEGf1rPK"
   },
   "source": [
    "**3. Compare the acceptance rate by gender for the drivers who go to coffee house**"
   ]
  },
  {
   "cell_type": "code",
   "execution_count": 35,
   "metadata": {
    "colab": {
     "base_uri": "https://localhost:8080/"
    },
    "executionInfo": {
     "elapsed": 6,
     "status": "ok",
     "timestamp": 1715654645424,
     "user": {
      "displayName": "Mimi Bhattacharjee",
      "userId": "12057613057432470560"
     },
     "user_tz": 420
    },
    "id": "D977XleGc3am",
    "outputId": "c040679c-4ec6-4b82-fa3c-80b5ec69733c"
   },
   "outputs": [
    {
     "name": "stdout",
     "output_type": "stream",
     "text": [
      "Acceptance Rate 1: 49.24%\n",
      "Acceptance Rate 2: 50.64%\n"
     ]
    }
   ],
   "source": [
    "data_coffee['gender'].unique() #['Female', 'Male']\n",
    "#group_1 - female coffee drivers\n",
    "group_1 = data_coffee[data_coffee['gender'] == 'Female']\n",
    "#group_2 - male coffee drivers\n",
    "group_2 = data_coffee[data_coffee['gender'] == 'Male']\n",
    "acceptance_rate_1 = group_1['Y'].mean()\n",
    "acceptance_rate_2 = group_2['Y'].mean()\n",
    "print(f\"Acceptance Rate 1: {acceptance_rate_1:.2%}\")\n",
    "print(f\"Acceptance Rate 2: {acceptance_rate_2:.2%}\")"
   ]
  },
  {
   "cell_type": "markdown",
   "metadata": {
    "id": "SRfmnl9S3Zha"
   },
   "source": [
    "*The proportion of female drivers versus male drivers who accepted coffee cuopons are pretty close*"
   ]
  },
  {
   "cell_type": "markdown",
   "metadata": {
    "id": "7-s9y50YFvgZ"
   },
   "source": [
    "Below is a bar chart that compares the coffee cuopon acceptance rate by gender and it does reflect the same finding as derived through calculations"
   ]
  },
  {
   "cell_type": "code",
   "execution_count": 36,
   "metadata": {
    "colab": {
     "base_uri": "https://localhost:8080/",
     "height": 508
    },
    "executionInfo": {
     "elapsed": 317,
     "status": "ok",
     "timestamp": 1715654645737,
     "user": {
      "displayName": "Mimi Bhattacharjee",
      "userId": "12057613057432470560"
     },
     "user_tz": 420
    },
    "id": "2aTxh2TVFT_0",
    "outputId": "b0371469-a443-4c22-85f2-13792b86811b"
   },
   "outputs": [
    {
     "data": {
      "image/png": "[encoded data removed]",
      "text/plain": [
       "<Figure size 640x480 with 1 Axes>"
      ]
     },
     "metadata": {},
     "output_type": "display_data"
    }
   ],
   "source": [
    "acceptance_rate_by_gender = data_coffee.groupby('gender')['Y'].mean()\n",
    "acceptance_rate_by_gender.plot(kind='bar', color='skyblue')\n",
    "plt.title('Acceptance Rate of Coffee House Coupons by Gender')\n",
    "plt.xlabel('Gender')\n",
    "plt.ylabel('Acceptance Rate')\n",
    "plt.ylim(0, 1)  # Ensure the y-axis starts at 0 and ends at 1 for proportion display\n",
    "plt.show()"
   ]
  },
  {
   "cell_type": "markdown",
   "metadata": {
    "id": "07xQWPD_4Au5"
   },
   "source": [
    "**Distribution by age of drivers who go to coffee house**"
   ]
  },
  {
   "cell_type": "code",
   "execution_count": 37,
   "metadata": {
    "colab": {
     "base_uri": "https://localhost:8080/",
     "height": 564
    },
    "executionInfo": {
     "elapsed": 427,
     "status": "ok",
     "timestamp": 1715654646160,
     "user": {
      "displayName": "Mimi Bhattacharjee",
      "userId": "12057613057432470560"
     },
     "user_tz": 420
    },
    "id": "uWEZWIRNoyA5",
    "outputId": "bbcfbd5e-2974-4a4f-c0ca-cc817e68e0b9"
   },
   "outputs": [
    {
     "data": {
      "image/png": "[encoded data removed]",
      "text/plain": [
       "<Figure size 1000x600 with 1 Axes>"
      ]
     },
     "metadata": {},
     "output_type": "display_data"
    }
   ],
   "source": [
    "data_coffee['age'].unique() #['21', '46', '26', '31', '41', '50plus', '36', 'below21']\n",
    "#sns.displot(x='age', data= data_coffee)\n",
    "\n",
    "plt.figure(figsize=(10, 6))  # Set the size of the figure\n",
    "plt.hist(data_coffee['age'], bins=15, color='blue', alpha=0.7)  # Histogram plot\n",
    "plt.title('Histogram of Coffee House Visitors by Age')  # Title of the histogram\n",
    "plt.xlabel('Age')  # Label for the x-axis\n",
    "plt.ylabel('Number of Visitors')  # Label for the y-axis\n",
    "plt.grid(True)  # Add grid for better readability\n",
    "plt.show()  # Display the plot"
   ]
  },
  {
   "cell_type": "markdown",
   "metadata": {
    "id": "MQVmCFa63KOt"
   },
   "source": [
    "From the above histogram, it looks like the drivers below the age of 30 go to coffee house more than 30 plus."
   ]
  },
  {
   "cell_type": "markdown",
   "metadata": {
    "id": "GgSC7b3J6YKb"
   },
   "source": [
    "**4. Comparing the acceptance rate of coffee cuopons for drivers who are 30 or older versus drivers below 30**"
   ]
  },
  {
   "cell_type": "code",
   "execution_count": 38,
   "metadata": {
    "colab": {
     "base_uri": "https://localhost:8080/"
    },
    "executionInfo": {
     "elapsed": 5,
     "status": "ok",
     "timestamp": 1715654646161,
     "user": {
      "displayName": "Mimi Bhattacharjee",
      "userId": "12057613057432470560"
     },
     "user_tz": 420
    },
    "id": "Q1rcLFr4oyA8",
    "outputId": "da7c6743-f68e-4e5e-df92-7454baa3f169"
   },
   "outputs": [
    {
     "name": "stdout",
     "output_type": "stream",
     "text": [
      "Acceptance Rate 1: 53.43%\n",
      "Acceptance Rate 2: 46.81%\n"
     ]
    }
   ],
   "source": [
    "#group_1 drivers over 30years old who go to coffee house\n",
    "#['21', '46', '26', '31', '41', '50plus', '36', 'below21']\n",
    "\n",
    "def is_under_30(age_str):\n",
    "  if age_str == 'below21':\n",
    "    return True\n",
    "  elif age_str == '50plus':\n",
    "    return False\n",
    "  else:\n",
    "    base_age = age_str.replace('plus','')\n",
    "    return int(base_age) < 30\n",
    "\n",
    "\n",
    "group_1 = data_coffee[data_coffee['age'].apply(is_under_30)]\n",
    "acceptance_rate_1 = group_1['Y'].mean()\n",
    "#group_2 drivers above the age of 30 who go to coffeehouse\n",
    "group_2 = data_coffee[~data_coffee['age'].apply(is_under_30)]\n",
    "acceptance_rate_2 = group_2['Y'].mean()\n",
    "acceptance_rate_2\n",
    "print(f\"Acceptance Rate 1: {acceptance_rate_1:.2%}\")\n",
    "print(f\"Acceptance Rate 2: {acceptance_rate_2:.2%}\")"
   ]
  },
  {
   "cell_type": "markdown",
   "metadata": {
    "id": "y7HK9iAIE3gJ"
   },
   "source": [
    "*Drivers below 30 years tend to accept coffee cuopons more than older drivers*"
   ]
  },
  {
   "cell_type": "markdown",
   "metadata": {
    "id": "aQIJUx127f0C"
   },
   "source": [
    "**Distribution of drivers who go to coffee house by occupation**"
   ]
  },
  {
   "cell_type": "code",
   "execution_count": 39,
   "metadata": {
    "colab": {
     "base_uri": "https://localhost:8080/",
     "height": 760
    },
    "executionInfo": {
     "elapsed": 551,
     "status": "ok",
     "timestamp": 1715654646709,
     "user": {
      "displayName": "Mimi Bhattacharjee",
      "userId": "12057613057432470560"
     },
     "user_tz": 420
    },
    "id": "OKsm3Y73oyA9",
    "outputId": "0bc3d8d1-2034-4938-ba52-f5bdb61eb092"
   },
   "outputs": [
    {
     "data": {
      "image/png": "[encoded data removed]",
      "text/plain": [
       "<Figure size 1200x800 with 1 Axes>"
      ]
     },
     "metadata": {},
     "output_type": "display_data"
    }
   ],
   "source": [
    "data_coffee['destination'].unique() #['No Urgent Place', 'Home', 'Work']\n",
    "data_coffee['occupation'].unique()\n",
    "data_coffee['occupation'].value_counts()\n",
    "occupations_counts = data_coffee.groupby('occupation').size()\n",
    "\n",
    "#create a dataframe from a series for easier plotting\n",
    "occupations_counts_df = occupations_counts.reset_index(name = 'Count')\n",
    "#Filtering out the occupations which do not have many drivers, to reduce the noise\n",
    "popular_occupations = occupations_counts_df[occupations_counts_df['Count'] >= 100]\n",
    "\n",
    "plt.figure(figsize=(12, 8))  # Set the figure size\n",
    "sns.barplot(x='Count', y='occupation', data=popular_occupations, palette='viridis')\n",
    "plt.title('Histogram of Popular Occupations for Drivers who go to Coffee House')\n",
    "plt.xlabel('Number of Drivers to CoffeeHouse')\n",
    "plt.ylabel('Occupation')\n",
    "plt.show()"
   ]
  },
  {
   "cell_type": "markdown",
   "metadata": {
    "id": "r3K0jt5h75VI"
   },
   "source": [
    "*From the chart, the 3 categories with most coffee house drivers are - Unemployed, Student and Computer & Mathematical occupation*"
   ]
  },
  {
   "cell_type": "markdown",
   "metadata": {
    "id": "JJoZXgA68LT6"
   },
   "source": [
    "**Comparing the acceptance rate for the above 3 categories**"
   ]
  },
  {
   "cell_type": "code",
   "execution_count": 40,
   "metadata": {
    "colab": {
     "base_uri": "https://localhost:8080/"
    },
    "executionInfo": {
     "elapsed": 236,
     "status": "ok",
     "timestamp": 1715654646941,
     "user": {
      "displayName": "Mimi Bhattacharjee",
      "userId": "12057613057432470560"
     },
     "user_tz": 420
    },
    "id": "4xb6Fe_VK1T4",
    "outputId": "6cfd32e6-a8b2-4ef3-f385-f52cd583baf5"
   },
   "outputs": [
    {
     "name": "stdout",
     "output_type": "stream",
     "text": [
      "Acceptance Rate 1: 54.21%\n",
      "Acceptance Rate 2: 62.53%\n",
      "Acceptance Rate 3: 50.33%\n"
     ]
    }
   ],
   "source": [
    "#Comparing the acceptance rate for Unemployed, Student and Computer & Mathematical\n",
    "#group_1 occupation Unemployed\n",
    "group_1 = data_coffee[data_coffee['occupation'] == 'Unemployed']\n",
    "acceptance_rate_1 = group_1['Y'].mean()\n",
    "#group_2 occupation Student\n",
    "group_2 = data_coffee[data_coffee['occupation'] == 'Student']\n",
    "acceptance_rate_2 = group_2['Y'].mean()\n",
    "acceptance_rate_2\n",
    "#group_3 occupation = Computer & Mathematical\n",
    "group_3 = data_coffee[data_coffee['occupation'] == 'Computer & Mathematical']\n",
    "acceptance_rate_3 = group_3['Y'].mean()\n",
    "acceptance_rate_3\n",
    "print(f\"Acceptance Rate 1: {acceptance_rate_1:.2%}\")\n",
    "print(f\"Acceptance Rate 2: {acceptance_rate_2:.2%}\")\n",
    "print(f\"Acceptance Rate 3: {acceptance_rate_3:.2%}\")\n"
   ]
  },
  {
   "cell_type": "markdown",
   "metadata": {
    "id": "DlfNrUw7ciNc"
   },
   "source": [
    "*From the above analysis, it seems Students accept coffee cuopons more than Unemployed who accept more than Computer & Mathematical occupation*"
   ]
  },
  {
   "cell_type": "markdown",
   "metadata": {
    "id": "M0bwWJWNI-QD"
   },
   "source": [
    "Below is a chart that compares the acceptance rate for drivers who go to coffee house across all the occupations. Although the highest number of drivers who go to coffee house are from occupation unemployed/ student/ Computer & Mathematical, but the acceptance rate for te cuopon is the highest for Healthcare Practioners and Technical"
   ]
  },
  {
   "cell_type": "code",
   "execution_count": 41,
   "metadata": {
    "colab": {
     "base_uri": "https://localhost:8080/",
     "height": 754
    },
    "executionInfo": {
     "elapsed": 1089,
     "status": "ok",
     "timestamp": 1715654648027,
     "user": {
      "displayName": "Mimi Bhattacharjee",
      "userId": "12057613057432470560"
     },
     "user_tz": 420
    },
    "id": "1FJyovKEHYH_",
    "outputId": "4190d2ca-d8cd-4edd-9899-3757c986a40b"
   },
   "outputs": [
    {
     "data": {
      "image/png": "[encoded data removed]",
      "text/plain": [
       "<Figure size 1200x800 with 1 Axes>"
      ]
     },
     "metadata": {},
     "output_type": "display_data"
    }
   ],
   "source": [
    "# Group by occupation and calculate the mean of acceptance\n",
    "acceptance_rate_by_occupation = data_coffee.groupby('occupation')['Y'].mean().reset_index()\n",
    "\n",
    "# Sorting the results for better visualization\n",
    "acceptance_rate_by_occupation.sort_values(by='Y', ascending=False, inplace=True)\n",
    "\n",
    "# Plotting with Seaborn\n",
    "plt.figure(figsize=(12, 8))  # Set the figure size\n",
    "sns.barplot(x='Y', y='occupation', data=acceptance_rate_by_occupation, palette='viridis')\n",
    "plt.title('Acceptance Rate of Coffee House Coupons by Occupation')\n",
    "plt.xlabel('Acceptance Rate')\n",
    "plt.ylabel('Occupation')\n",
    "plt.show()"
   ]
  },
  {
   "cell_type": "markdown",
   "metadata": {
    "id": "Ilsg0H8L1ID0"
   },
   "source": [
    " **5. Compare the acceptance rates between those drivers who:\n",
    "go to coffeehouse more than once a month, had passengers that were not a kid, and were not widowed OR\n",
    "go to coffeehouse more than once a month and are under the age of 30 OR\n",
    "go to cheap restaurants more than 4 times a month and income is less than 50K.**"
   ]
  },
  {
   "cell_type": "code",
   "execution_count": 42,
   "metadata": {
    "colab": {
     "base_uri": "https://localhost:8080/"
    },
    "executionInfo": {
     "elapsed": 6,
     "status": "ok",
     "timestamp": 1715654648027,
     "user": {
      "displayName": "Mimi Bhattacharjee",
      "userId": "12057613057432470560"
     },
     "user_tz": 420
    },
    "id": "CesFDAdKaq-t",
    "outputId": "2438ba2f-7763-4189-ed8d-ea417be35329"
   },
   "outputs": [
    {
     "name": "stdout",
     "output_type": "stream",
     "text": [
      "Acceptance Rate 1: 66.08%\n",
      "Acceptance Rate 2: 68.93%\n",
      "Acceptance Rate 3: 68.70%\n"
     ]
    }
   ],
   "source": [
    "#['21', '46', '26', '31', '41', '50plus', '36', 'below21']\n",
    "def is_under_30(age_str):\n",
    "  if age_str == 'below21':\n",
    "    return True\n",
    "  elif age_str == '50plus':\n",
    "    return False\n",
    "  else:\n",
    "    base_age = age_str.replace('plus','')\n",
    "    return int(base_age) < 30\n",
    "\n",
    "#condition_1 - go to coffeehouse more than once a month, had passengers that were not a kid, and were not widowed\n",
    "data_coffee['passanger'].unique() #['Friend(s)', 'Kid(s)', 'Alone', 'Partner']\n",
    "data_coffee['maritalStatus'].unique() #['Unmarried partner', 'Single', 'Married partner', 'Divorced', 'Widowed']\n",
    "\n",
    "condition_1 = (data_coffee['CoffeeHouse'].isin(['4~8', '1~3', 'gt8'])) & (data_coffee['passanger'] !=  'Kid(s)') & (data_coffee['maritalStatus'] != 'Widowed')\n",
    "group_1 = data_coffee[condition_1]\n",
    "acceptance_rate_1 = group_1['Y'].mean()\n",
    "\n",
    "print(f\"Acceptance Rate 1: {acceptance_rate_1:.2%}\")\n",
    "\n",
    "#condition_2 - go to coffeehouse more than once a month and are under the age of 30\n",
    "condition_2 = data_coffee['CoffeeHouse'].isin(['4~8', '1~3', 'gt8']) & data_coffee['age'].apply(is_under_30)\n",
    "group_2 = data_coffee[condition_2]\n",
    "acceptance_rate_2 = group_2['Y'].mean()\n",
    "print(f\"Acceptance Rate 2: {acceptance_rate_2:.2%}\")\n",
    "\n",
    "#condition_3 - go to cheap restaurants more than 4 times a month and income is less than 50K\n",
    "data_coffee['RestaurantLessThan20'].unique() #['4~8', '1~3', 'less1', 'gt8', 'never']\n",
    "data_coffee['income'].unique()\n",
    "#['$37500 - $49999', '$62500 - $74999', '$12500 - $24999','$75000 - $87499', '$50000 - $62499', '$25000 - $37499','$100000 or More', '$87500 - $99999', 'Less than $12500']\n",
    "\n",
    "def income_less_than_50(income_str):\n",
    "  if income_str in ['$37500 - $49999','$12500 - $24999','$25000 - $37499','Less than $12500']:\n",
    "    return True\n",
    "  return False\n",
    "\n",
    "#condition_3 = data_coffee['Restaurant20To50']\n",
    "data_coffee['Restaurant20To50'].unique()  #['1~3', 'less1', 'never', 'gt8', '4~8']\n",
    "condition_3 = data_coffee['Restaurant20To50'].isin(['gt8', '4~8']) & data_coffee['income'].apply(income_less_than_50)\n",
    "group_3 = data_coffee[condition_3]\n",
    "acceptance_rate_3 = group_3['Y'].mean()\n",
    "print(f\"Acceptance Rate 3: {acceptance_rate_3:.2%}\")\n"
   ]
  },
  {
   "cell_type": "markdown",
   "metadata": {
    "id": "BTcULBHFBZPL"
   },
   "source": [
    "*Looks like the acceptance rate for drivers who go to coffee house is pretty constance across various conditions listed above*"
   ]
  }
 ],
 "metadata": {
  "colab": {
   "provenance": []
  },
  "kernelspec": {
   "display_name": "Python 3 (ipykernel)",
   "language": "python",
   "name": "python3"
  },
  "language_info": {
   "codemirror_mode": {
    "name": "ipython",
    "version": 3
   },
   "file_extension": ".py",
   "mimetype": "text/x-python",
   "name": "python",
   "nbconvert_exporter": "python",
   "pygments_lexer": "ipython3",
   "version": "3.11.4"
  }
 },
 "nbformat": 4,
 "nbformat_minor": 1
}
